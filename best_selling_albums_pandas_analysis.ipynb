{
 "cells": [
  {
   "cell_type": "code",
   "execution_count": 1,
   "id": "45769de0-0a6d-4725-809e-f108305ef06f",
   "metadata": {},
   "outputs": [],
   "source": [
    "import pandas as pd\n",
    "from io import StringIO\n"
   ]
  },
  {
   "cell_type": "code",
   "execution_count": 4,
   "id": "e3c7abd6-7f5b-421c-90a7-72ddca35fc33",
   "metadata": {},
   "outputs": [],
   "source": [
    "#data\n"
   ]
  },
  {
   "cell_type": "code",
   "execution_count": 6,
   "id": "a806e8f0-8bca-4df8-a126-86f33e790d2b",
   "metadata": {},
   "outputs": [],
   "source": [
    "data = \"\"\"POS\tTITLE\tARTIST\tYEAR\tHIGH POSN\n",
    "1\tGREATEST HITS\tQUEEN\t1981\t1\n",
    "2\tGOLD - GREATEST HITS\tABBA\t1992\t1\n",
    "3\tSGT PEPPER'S LONELY HEARTS CLUB BAND\tBEATLES\t1967\t1\n",
    "4\t21\tADELE\t2011\t1\n",
    "5\tWHAT'S THE STORY MORNING GLORY\tOASIS\t1995\t1\n",
    "6\tTHRILLER\tMICHAEL JACKSON\t1982\t1\n",
    "7\tTHE DARK SIDE OF THE MOON\tPINK FLOYD\t1973\t2\n",
    "8\tBROTHERS IN ARMS\tDIRE STRAITS\t1985\t1\n",
    "9\tBAD\tMICHAEL JACKSON\t1987\t1\n",
    "10\tGREATEST HITS II\tQUEEN\t1991\t1\n",
    "11\tRUMOURS\tFLEETWOOD MAC\t1977\t1\n",
    "12\tTHE IMMACULATE COLLECTION\tMADONNA\t1990\t1\n",
    "13\tBACK TO BLACK\tAMY WINEHOUSE\t2006\t1\n",
    "14\tSTARS\tSIMPLY RED\t1991\t1\n",
    "15\tCOME ON OVER\tSHANIA TWAIN\t1997\t1\n",
    "16\tLEGEND\tBOB MARLEY & THE WAILERS\t1984\t1\n",
    "17\tBACK TO BEDLAM\tJAMES BLUNT\t2004\t1\n",
    "18\tURBAN HYMNS\tVERVE\t1997\t1\n",
    "19\tBAT OUT OF HELL\tMEAT LOAF\t1977\t9\n",
    "20\t1\tBEATLES\t2000\t1\n",
    "21\tBRIDGE OVER TROUBLED WATER\tSIMON & GARFUNKEL\t1970\t1\n",
    "22\tDIRTY DANCING\tORIGINAL SOUNDTRACK\t1987\t4\n",
    "23\tSPIRIT\tLEONA LEWIS\t2007\t1\n",
    "24\tCRAZY LOVE\tMICHAEL BUBLE\t2009\t1\n",
    "25\tNO ANGEL\tDIDO\t2000\t1\n",
    "26\tWHITE LADDER\tDAVID GRAY\t1998\t1\n",
    "27\t25\tADELE\t2015\t1\n",
    "28\tTALK ON CORNERS\tCORRS\t1997\t1\n",
    "29\tSPICE\tSPICE GIRLS\t1996\t1\n",
    "30\tTHE FAME\tLADY GAGA\t2008\t1\n",
    "31\tA RUSH OF BLOOD TO THE HEAD\tCOLDPLAY\t2002\t1\n",
    "32\tLIFE FOR RENT\tDIDO\t2003\t1\n",
    "33\tONLY BY THE NIGHT\tKINGS OF LEON\t2008\t1\n",
    "34\tBEAUTIFUL WORLD\tTAKE THAT\t2006\t1\n",
    "35\tHOPES AND FEARS\tKEANE\t2004\t1\n",
    "36\tTHE JOSHUA TREE\tU2\t1987\t1\n",
    "37\tTHE WAR OF THE WORLDS\tJEFF WAYNE\t1978\t5\n",
    "38\tSCISSOR SISTERS\tSCISSOR SISTERS\t2004\t1\n",
    "39\tBUT SERIOUSLY\tPHIL COLLINS\t1989\t1\n",
    "40\tX&Y\tCOLDPLAY\t2005\t1\n",
    "41\tJAGGED LITTLE PILL\tALANIS MORISSETTE\t1995\t1\n",
    "42\tTUBULAR BELLS\tMIKE OLDFIELD\t1973\t1\n",
    "43\tTHE MAN WHO\tTRAVIS\t1999\t1\n",
    "44\tTRACY CHAPMAN\tTRACY CHAPMAN\t1988\t1\n",
    "45\tPARACHUTES\tCOLDPLAY\t2000\t1\n",
    "46\tGREATEST HITS\tABBA\t1975\t1\n",
    "47\tGREASE\tORIGINAL SOUNDTRACK\t1977\t1\n",
    "48\tI'VE BEEN EXPECTING YOU\tROBBIE WILLIAMS\t1998\t1\n",
    "49\tX\tED SHEERAN\t2014\t1\n",
    "50\tCOME AWAY WITH ME\tNORAH JONES\t2002\t1\n",
    "51\tGRACELAND\tPAUL SIMON\t1986\t1\n",
    "52\tTHE SOUND OF MUSIC\tORIGINAL CAST RECORDING\t1965\t1\n",
    "53\tLADIES & GENTLEMEN - THE BEST OF\tGEORGE MICHAEL\t1998\t1\n",
    "54\tTANGO IN THE NIGHT\tFLEETWOOD MAC\t1987\t1\n",
    "55\tTHE MARSHALL MATHERS LP\tEMINEM\t2000\t1\n",
    "56\tSWING WHEN YOU'RE WINNING\tROBBIE WILLIAMS\t2001\t1\n",
    "57\tPROGRESS\tTAKE THAT\t2010\t1\n",
    "58\tEYES OPEN\tSNOW PATROL\t2006\t1\n",
    "59\tNEVER FORGET - THE ULTIMATE COLLECTION\tTAKE THAT\t2005\t2\n",
    "60\tAUTOMATIC FOR THE PEOPLE\tREM\t1992\t1\"\"\""
   ]
  },
  {
   "cell_type": "code",
   "execution_count": 8,
   "id": "d434908a-97ab-43ba-8c50-9b1e69f4b6da",
   "metadata": {},
   "outputs": [],
   "source": [
    "#loading to DataFrame"
   ]
  },
  {
   "cell_type": "code",
   "execution_count": 10,
   "id": "909310d1-5f09-4613-9e01-a00d1f43fe65",
   "metadata": {},
   "outputs": [],
   "source": [
    "df = pd.read_csv(StringIO(data), sep='\\t')"
   ]
  },
  {
   "cell_type": "code",
   "execution_count": 12,
   "id": "3ad13d48-c1c9-4620-82f8-e4dce01523c9",
   "metadata": {},
   "outputs": [],
   "source": [
    "# Replacing the headlines with Polish ones\n"
   ]
  },
  {
   "cell_type": "code",
   "execution_count": 14,
   "id": "8cc39942-2a4e-4fa3-8989-0b1c0e10dc6c",
   "metadata": {},
   "outputs": [],
   "source": [
    "df.columns = ['Pozycja', 'Tytuł', 'Artysta', 'Rok', 'Max poz']"
   ]
  },
  {
   "cell_type": "code",
   "execution_count": 16,
   "id": "03f1cbef-1d08-4ebf-9d2b-7852ffabcaa3",
   "metadata": {},
   "outputs": [],
   "source": [
    "# Number of unique artists"
   ]
  },
  {
   "cell_type": "code",
   "execution_count": 22,
   "id": "67c29e1b-8452-4e62-ab8f-46ee251f9ad5",
   "metadata": {},
   "outputs": [],
   "source": [
    "unique_artists = df['Artysta'].nunique()"
   ]
  },
  {
   "cell_type": "code",
   "execution_count": 24,
   "id": "534eab80-101e-4aec-bb82-d873507119d6",
   "metadata": {},
   "outputs": [],
   "source": [
    "# Most frequently listed bands"
   ]
  },
  {
   "cell_type": "code",
   "execution_count": 26,
   "id": "f814b67e-83d7-4a2b-a5fd-71af015accf1",
   "metadata": {},
   "outputs": [],
   "source": [
    "most = df['Artysta'].value_counts().head()"
   ]
  },
  {
   "cell_type": "code",
   "execution_count": 28,
   "id": "b52f3aef-c628-4936-9c34-3811791887fe",
   "metadata": {},
   "outputs": [],
   "source": [
    "# Changing the style of headings"
   ]
  },
  {
   "cell_type": "code",
   "execution_count": 30,
   "id": "f5e8e438-dc9e-4e28-a5aa-3f1e77515f96",
   "metadata": {},
   "outputs": [],
   "source": [
    "df.columns = [col.capitalize() for col in df.columns]"
   ]
  },
  {
   "cell_type": "code",
   "execution_count": 32,
   "id": "5874c1b2-ae5e-4ca9-ab1b-eb3b80ec788f",
   "metadata": {},
   "outputs": [],
   "source": [
    "# Delete Max pos column"
   ]
  },
  {
   "cell_type": "code",
   "execution_count": 34,
   "id": "741410aa-3f4f-417a-85a3-fd8bb37ef086",
   "metadata": {},
   "outputs": [],
   "source": [
    "df = df.drop(columns=['Max poz'])"
   ]
  },
  {
   "cell_type": "code",
   "execution_count": 36,
   "id": "1f93b194-f6eb-49b8-9dec-aa1a87d935d3",
   "metadata": {},
   "outputs": [],
   "source": [
    "# Year with the most albums"
   ]
  },
  {
   "cell_type": "code",
   "execution_count": 38,
   "id": "6029fbf1-03ac-4741-88b6-a7b661cb7120",
   "metadata": {},
   "outputs": [],
   "source": [
    "year_most_albums = df['Rok'].value_counts().idxmax()"
   ]
  },
  {
   "cell_type": "code",
   "execution_count": 40,
   "id": "b6e47c4e-2b96-436a-8b79-6cc3a7e4e58d",
   "metadata": {},
   "outputs": [],
   "source": [
    "# Albums from 1960-1990"
   ]
  },
  {
   "cell_type": "code",
   "execution_count": 42,
   "id": "12fa6d65-e6c6-422f-bd34-890203c3fc04",
   "metadata": {},
   "outputs": [],
   "source": [
    "albums_60_90 = df[(df['Rok'] >= 1960) & (df['Rok'] <= 1990)].shape[0]"
   ]
  },
  {
   "cell_type": "code",
   "execution_count": 44,
   "id": "b715a0e2-d9db-4bc6-bf34-413271562cf7",
   "metadata": {},
   "outputs": [],
   "source": [
    "# The youngest album on the list"
   ]
  },
  {
   "cell_type": "code",
   "execution_count": 46,
   "id": "c86ed684-18ae-457f-afcb-782a88658c2d",
   "metadata": {},
   "outputs": [],
   "source": [
    "youngest_year = df['Rok'].max()"
   ]
  },
  {
   "cell_type": "code",
   "execution_count": 48,
   "id": "586a3005-c4d7-47a2-95b6-d3fa95740319",
   "metadata": {},
   "outputs": [],
   "source": [
    "#Earliest album by each artist"
   ]
  },
  {
   "cell_type": "code",
   "execution_count": 54,
   "id": "b1697e69-183d-455f-85a7-8239a42f68a4",
   "metadata": {},
   "outputs": [],
   "source": [
    "earliest_albums = df.sort_values('Rok').drop_duplicates('Artysta')"
   ]
  },
  {
   "cell_type": "code",
   "execution_count": 56,
   "id": "d9eb2935-1c0c-417a-81d1-4ae064d838a2",
   "metadata": {},
   "outputs": [],
   "source": [
    "# save to CSV"
   ]
  },
  {
   "cell_type": "code",
   "execution_count": 58,
   "id": "67eebdb3-6106-469e-b1cb-b731da00a63c",
   "metadata": {},
   "outputs": [],
   "source": [
    "earliest_albums.to_csv('najwczesniejsze_albumy.csv', index=False)"
   ]
  },
  {
   "cell_type": "code",
   "execution_count": 60,
   "id": "40b5dcb1-682d-4ea4-815d-cbbcd28bdd2e",
   "metadata": {},
   "outputs": [],
   "source": [
    "#Results"
   ]
  },
  {
   "cell_type": "code",
   "execution_count": 62,
   "id": "afeef252-1418-4d7d-b419-68e6a8f37a45",
   "metadata": {},
   "outputs": [
    {
     "name": "stdout",
     "output_type": "stream",
     "text": [
      "Number of unique artists: 47\n",
      "\n",
      "Most frequent artists:\n",
      " Artysta\n",
      "COLDPLAY         3\n",
      "TAKE THAT        3\n",
      "FLEETWOOD MAC    2\n",
      "ABBA             2\n",
      "DIDO             2\n",
      "Name: count, dtype: int64\n",
      "\n",
      "Year with the most albums: 2000\n",
      "Number of albums from 1960-1990: 22\n",
      "The youngest album is from: 2015\n"
     ]
    }
   ],
   "source": [
    "\n",
    "print(f\"Number of unique artists: {unique_artists}\")\n",
    "print(\"\\nMost frequent artists:\\n\", most)\n",
    "print(f\"\\nYear with the most albums: {year_most_albums}\")\n",
    "print(f\"Number of albums from 1960-1990: {albums_60_90}\")\n",
    "print(f\"The youngest album is from: {youngest_year}\")"
   ]
  },
  {
   "cell_type": "code",
   "execution_count": null,
   "id": "45147155-8f99-4475-bd11-67c7b711a49f",
   "metadata": {},
   "outputs": [],
   "source": []
  }
 ],
 "metadata": {
  "kernelspec": {
   "display_name": "Python [conda env:base] *",
   "language": "python",
   "name": "conda-base-py"
  },
  "language_info": {
   "codemirror_mode": {
    "name": "ipython",
    "version": 3
   },
   "file_extension": ".py",
   "mimetype": "text/x-python",
   "name": "python",
   "nbconvert_exporter": "python",
   "pygments_lexer": "ipython3",
   "version": "3.12.7"
  }
 },
 "nbformat": 4,
 "nbformat_minor": 5
}
